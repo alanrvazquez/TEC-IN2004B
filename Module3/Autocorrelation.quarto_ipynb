{
  "cells": [
    {
      "cell_type": "markdown",
      "metadata": {},
      "source": [
        "---\n",
        "title: \"Autocorrelation Models\"\n",
        "subtitle: \"IN2004B: Generation of Value with Data Analytics\"\n",
        "author: \n",
        "  - name: Alan R. Vazquez\n",
        "    affiliations:\n",
        "      - name: Department of Industrial Engineering\n",
        "format: \n",
        "  revealjs:\n",
        "    chalkboard: false\n",
        "    multiplex: false\n",
        "    footer: \"Tecnologico de Monterrey\"\n",
        "    logo: IN2004B_logo.png\n",
        "    css: style.css\n",
        "    slide-number: True\n",
        "    html-math-method: mathjax\n",
        "editor: visual\n",
        "jupyter: python3\n",
        "---\n",
        "\n",
        "\n",
        "## Agenda\n",
        "\n",
        "</br>\n",
        "\n",
        "1.  Autocorrelation\n",
        "2.  The ARIMA model\n",
        "3.  The SARIMA model\n",
        "\n",
        "## Load the libraries\n",
        "\n",
        "Before we start, let's import the data science libraries into Python.\n"
      ],
      "id": "f86ff53f"
    },
    {
      "cell_type": "code",
      "metadata": {},
      "source": [
        "#| echo: true\n",
        "#| output: false\n",
        "\n",
        "# Importing necessary libraries\n",
        "import numpy as np\n",
        "import pandas as pd\n",
        "import matplotlib.pyplot as plt\n",
        "import seaborn as sns\n",
        "from sklearn.model_selection import train_test_split\n",
        "from sklearn.linear_model import LinearRegression\n",
        "from sklearn.metrics import mean_squared_error, r2_score\n",
        "from statsmodels.graphics.tsaplots import plot_acf, plot_pacf\n",
        "from statsmodels.tsa.arima.model import ARIMA\n",
        "from statsmodels.tsa.statespace.tools import diff"
      ],
      "id": "0312422d",
      "execution_count": null,
      "outputs": []
    },
    {
      "cell_type": "markdown",
      "metadata": {},
      "source": [
        "Here, we use specific functions from the **pandas**, **matplotlib**, **seaborn**, **sklearn** and **statsmodels** libraries in Python.\n",
        "\n",
        "# Autocorrelation\n",
        "\n",
        "## Problem with linear regression models\n",
        "\n",
        "</br>\n",
        "\n",
        "Linear regression models do not incorporate the [dependence]{style=\"color:purple;\"} between consecutive values in a time series.\n",
        "\n",
        "This is unfortunate because responses recorded over close time periods tend to be correlated. This correlation is called the [**autocorrelation**]{style=\"color:purple;\"} of the time series.\n",
        "\n",
        "Autocorrelation helps us develop a model that can make better predictions of future responses.\n",
        "\n",
        "## What is correlation?\n",
        "\n",
        ":::::: center\n",
        "::::: columns\n",
        "::: {.column width=\"60%\"}\n",
        "</br>\n",
        "\n",
        "-   It is a measure of the strength and direction of the *linear* relationship between two numerical variables.\n",
        "\n",
        "-   Specifically, it is used to assess the relationship between two sets of observations.\n",
        "\n",
        "-   Correlation is between $-1$ and 1.\n",
        ":::\n",
        "\n",
        "::: {.column width=\"40%\"}\n",
        "</br>\n"
      ],
      "id": "c56e02a4"
    },
    {
      "cell_type": "code",
      "metadata": {},
      "source": [
        "#| echo: false\n",
        "#| output: true\n",
        "#| fig-align: center\n",
        "\n",
        "# Load the data into Python\n",
        "Ads_data = pd.read_excel('Advertising.xlsx')\n",
        "\n",
        "# Calculate correlation\n",
        "correlation = Ads_data['TV'].corr(Ads_data['Sales'])\n",
        "\n",
        "# Create scatter plot\n",
        "plt.figure(figsize=(5, 5))\n",
        "sns.scatterplot(data=Ads_data, x='TV', y='Sales')\n",
        "plt.xlabel('TV Advertising Budget')\n",
        "plt.ylabel('Sales')\n",
        "# Optionally, also add as text on the plot\n",
        "plt.text(0.05, 0.95, f'Correlation = {correlation:.2f}', transform=plt.gca().transAxes,\n",
        "         fontsize=12, color='blue', ha='left', va='top')\n",
        "plt.tight_layout()\n",
        "plt.show()"
      ],
      "id": "6034515d",
      "execution_count": null,
      "outputs": []
    },
    {
      "cell_type": "markdown",
      "metadata": {},
      "source": [
        ":::\n",
        ":::::\n",
        "::::::\n",
        "\n",
        "## How do we measure autocorrelation?\n",
        "\n",
        "</br></br></br>\n",
        "\n",
        "There are two formal tools for measuring the correlation between observations in a time series:\n",
        "\n",
        "::: incremental\n",
        "-   The [***autocorrelation***]{style=\"color:green;\"} function.\n",
        "\n",
        "-   The [***partial autocorrelation***]{style=\"color:purple;\"} function.\n",
        ":::\n",
        "\n",
        "## The autocorrelation function\n",
        "\n",
        "> Measures the correlation between responses separated by $j$ periods.\n",
        "\n",
        "For example, consider the autocorrelation between the current temperature and the temperature recorded the day before.\n",
        "\n",
        ". . .\n",
        "\n",
        ":::::: center\n",
        "::::: columns\n",
        "::: {.column width=\"50%\"}\n",
        "![](images/correlation_1.png){fig-align=\"center\" width=\"465\" height=\"288\"}\n",
        ":::\n",
        "\n",
        "::: {.column width=\"50%\"}\n",
        ":::\n",
        ":::::\n",
        "::::::\n",
        "\n",
        "## The autocorrelation function\n",
        "\n",
        "> Measures the correlation between responses separated by $j$ periods.\n",
        "\n",
        "For example, consider the autocorrelation between the current temperature and the temperature recorded the day before.\n",
        "\n",
        ":::::: center\n",
        "::::: columns\n",
        "::: {.column width=\"50%\"}\n",
        "![](images/correlation_1.png){fig-align=\"center\" width=\"465\" height=\"288\"}\n",
        ":::\n",
        "\n",
        "::: {.column width=\"50%\"}\n",
        "![](images/correlation_2.png){fig-align=\"center\" width=\"465\" height=\"288\"}\n",
        ":::\n",
        ":::::\n",
        "::::::\n",
        "\n",
        "## The autocorrelation function\n",
        "\n",
        "> Measures the correlation between responses separated by $j$ periods.\n",
        "\n",
        "For example, consider the autocorrelation between the current temperature and the temperature recorded the day before. This would be the correlation between these two columns\n",
        "\n",
        "![](images/correlation_combined.png){fig-align=\"center\"}\n",
        "\n",
        "## Example 1\n",
        "\n",
        "Let's consider again the dataset in the file \"Amtrak.xlsx.\" The file contains records of Amtrak passenger numbers from January 1991 to March 2004.\n"
      ],
      "id": "38d793a8"
    },
    {
      "cell_type": "code",
      "metadata": {},
      "source": [
        "#| echo: false\n",
        "#| output: true\n",
        "#| fig-align: center\n",
        "\n",
        "Amtrak_data = pd.read_excel('Amtrak.xlsx')\n",
        "Amtrak_data.head()"
      ],
      "id": "19d538f5",
      "execution_count": null,
      "outputs": []
    },
    {
      "cell_type": "markdown",
      "metadata": {},
      "source": [
        "## \n",
        "\n",
        "</br>\n"
      ],
      "id": "4b7f04dc"
    },
    {
      "cell_type": "code",
      "metadata": {},
      "source": [
        "#| echo: false\n",
        "#| output: true\n",
        "#| fig-align: center\n",
        "\n",
        "plt.figure(figsize=(10, 6))\n",
        "sns.lineplot(x='Month', y='Ridership (in 000s)', data = Amtrak_data)\n",
        "plt.xlabel('Month')\n",
        "plt.ylabel('Ridership')\n",
        "plt.title('Amtrak Ridership Over Time')\n",
        "plt.show()"
      ],
      "id": "f4f2d1fc",
      "execution_count": null,
      "outputs": []
    },
    {
      "cell_type": "markdown",
      "metadata": {},
      "source": [
        "## Autocorrelation function\n",
        "\n",
        "</br>\n",
        "\n",
        "-   The autocorrelation function measures the correlation between responses that are separated by a specific number of periods.\n",
        "\n",
        "-   The autocorrelation function is commonly visualized using a bar chart.\n",
        "\n",
        "-   The vertical axis shows the differences (or [*lags*]{style=\"color:brown;\"}) between the periods considered, and the horizontal axis shows the correlations between observations at different lags.\n",
        "\n",
        "## Autocorrelation plot\n",
        "\n",
        "</br>\n",
        "\n",
        "In Python, we use the `plot_acf` function from the **statsmodels** library.\n"
      ],
      "id": "e354f5e8"
    },
    {
      "cell_type": "code",
      "metadata": {},
      "source": [
        "#| echo: true\n",
        "#| output: false\n",
        "#| fig-align: center\n",
        "\n",
        "plt.figure(figsize=(10, 6))\n",
        "plot_acf(Amtrak_data['Ridership (in 000s)'], lags = 25)\n",
        "plt.xlabel(\"Lag\")\n",
        "plt.ylabel(\"Correlation\")\n",
        "plt.show()"
      ],
      "id": "ac3061ad",
      "execution_count": null,
      "outputs": []
    },
    {
      "cell_type": "markdown",
      "metadata": {},
      "source": [
        "The `lags` parameter controls the number of periods for which to compute the autocorrelation function.\n",
        "\n",
        "## The resulting plot\n",
        "\n",
        "</br>\n"
      ],
      "id": "47bbf06b"
    },
    {
      "cell_type": "code",
      "metadata": {},
      "source": [
        "#| echo: false\n",
        "#| output: true\n",
        "#| fig-align: center\n",
        "\n",
        "plt.figure(figsize=(10, 6))\n",
        "plot_acf(Amtrak_data['Ridership (in 000s)'], lags = 25)\n",
        "plt.xlabel(\"Lag\")\n",
        "plt.ylabel(\"Correlation\")\n",
        "plt.show()"
      ],
      "id": "6ad9fc0e",
      "execution_count": null,
      "outputs": []
    },
    {
      "cell_type": "markdown",
      "metadata": {},
      "source": [
        "## \n",
        "\n",
        "::::::: center\n",
        ":::::: columns\n",
        ":::: {.column width=\"50%\"}\n",
        "::: {style=\"font-size: 80%;\"}\n",
        "</br>\n",
        "\n",
        "-   The autocorrelation plot shows that the responses and those from zero periods ago have a correlation of 1.\n",
        "\n",
        "-   The autocorrelation plot shows that the responses and those from one period ago have a correlation of around 0.45.\n",
        "\n",
        "-   The autocorrelation plot shows that the responses and those from 24 periods ago have a correlation of around 0.5.\n",
        ":::\n",
        "::::\n",
        "\n",
        "::: {.column width=\"50%\"}\n",
        "</br>\n"
      ],
      "id": "2aa6273f"
    },
    {
      "cell_type": "code",
      "metadata": {},
      "source": [
        "#| echo: false\n",
        "#| output: true\n",
        "#| fig-align: center\n",
        "\n",
        "plt.figure(figsize=(4, 4))\n",
        "plot_acf(Amtrak_data['Ridership (in 000s)'], lags = 25)\n",
        "plt.xlabel(\"Lag\")\n",
        "plt.ylabel(\"Correlation\")\n",
        "plt.show()"
      ],
      "id": "4bc059dc",
      "execution_count": null,
      "outputs": []
    },
    {
      "cell_type": "markdown",
      "metadata": {},
      "source": [
        ":::\n",
        "::::::\n",
        ":::::::\n",
        "\n",
        "## Autocorrelation patterns\n",
        "\n",
        "</br>\n",
        "\n",
        "-   **A strong autocorrelation (positive or negative) with a lag** $j$ **greater than 1 and its multiples** ($2k, 3k, \\ldots$) typically reflects a cyclical pattern or seasonality.\n",
        "\n",
        "-   **Positive lag-1 autocorrelation** describes a series in which consecutive values *generally* move in the same direction.\n",
        "\n",
        "-   **Negative lag-1 autocorrelation** reflects oscillations in the series, where high values (*generally*) are immediately followed by low values and vice versa.\n",
        "\n",
        "## More about the autocorrelation function\n",
        "\n",
        "Consider the problem of predicting the average price of a kilo of avocado this month.\n",
        "\n",
        "For this, we have the average price from last month and the month before that.\n",
        "\n",
        "![](images/Avocado1.png){fig-align=\"center\"}\n",
        "\n",
        "## \n",
        "\n",
        "</br></br>\n",
        "\n",
        "The autocorrelation function for $Y_t$ and $Y_{t-2}$ includes the direct and indirect effect of $Y_{t-2}$ on $Y_t$.\n",
        "\n",
        "![](images/Avocado3.png){fig-align=\"center\"}\n",
        "\n",
        "## Partial autocorrelation function\n",
        "\n",
        "> Measures the correlation between responses that are separated by $j$ periods, **excluding correlation** due to responses separated by intervening periods.\n",
        "\n",
        "![](images/Avocado4.png){fig-align=\"center\"}\n",
        "\n",
        "## \n",
        "\n",
        "In technical terms, the partial autocorrelation function fits the following linear regression model\n",
        "\n",
        "$$\\hat{Y}_t = \\hat{\\beta}_1 Y_{t-1} + \\hat{\\beta}_2 Y_{t-2}$$ Where:\n",
        "\n",
        "-   $\\hat{Y}_{t}$ is the predicted response at the current time ($t$).\n",
        "-   $\\hat{\\beta}_1$ is the *direct effect* of $Y_{t-1}$ on predicting $Y_{t}$.\n",
        "-   $\\hat{\\beta}_2$ is the *direct effect* of $Y_{t-2}$ on predicting $Y_{t}$.\n",
        "\n",
        "The partial autocorrelation between $Y_t$ and $Y_{t-2}$ is equal to $\\hat{\\beta}_2$.\n",
        "\n",
        "## \n",
        "\n",
        "-   The partial autocorrelation function is visualized using a graph similar to that for autocorrelation.\n",
        "\n",
        "-   The vertical axis shows the differences (or *lags*) between the periods considered, and the horizontal axis shows the partial correlations between observations at different lags.\n",
        "\n",
        "In Python, we use the `plot_pacf` function from **statsmodels**.\n"
      ],
      "id": "6268990b"
    },
    {
      "cell_type": "code",
      "metadata": {},
      "source": [
        "#| echo: true\n",
        "#| output: false\n",
        "#| fig-align: center\n",
        "\n",
        "plt.figure(figsize=(10, 6))\n",
        "plot_pacf(Amtrak_data['Ridership (in 000s)'], lags = 25)\n",
        "plt.xlabel(\"Lag\")\n",
        "plt.ylabel(\"Correlation\")\n",
        "plt.show()"
      ],
      "id": "d8dd7ad6",
      "execution_count": null,
      "outputs": []
    },
    {
      "cell_type": "markdown",
      "metadata": {},
      "source": [
        "## \n",
        "\n",
        "</br>\n",
        "\n",
        "::::::: center\n",
        ":::::: columns\n",
        ":::: {.column width=\"50%\"}\n",
        "::: {style=\"font-size: 80%;\"}\n",
        "</br>\n",
        "\n",
        "-   The partial autocorrelation plot shows that the responses and those from one period ago have a correlation of around 0.45. *This is the same for the autocorrelation plot.*\n",
        "\n",
        "-   The partial autocorrelation plot shows that the responses and those from two periods ago have a correlation near 0.\n",
        ":::\n",
        "::::\n",
        "\n",
        "::: {.column width=\"50%\"}"
      ],
      "id": "8f8f64ba"
    },
    {
      "cell_type": "code",
      "metadata": {},
      "source": [
        "#| echo: false\n",
        "#| output: true\n",
        "#| fig-align: center\n",
        "\n",
        "plt.figure(figsize=(10, 6))\n",
        "plot_pacf(Amtrak_data['Ridership (in 000s)'], lags = 25)\n",
        "plt.xlabel(\"Lag\")\n",
        "plt.ylabel(\"Correlation\")\n",
        "plt.show()"
      ],
      "id": "839517f0",
      "execution_count": null,
      "outputs": []
    },
    {
      "cell_type": "markdown",
      "metadata": {},
      "source": [
        ":::\n",
        "::::::\n",
        ":::::::\n",
        "\n",
        "# The ARIMA Model\n",
        "\n",
        "## Autoregressive models\n",
        "\n",
        "*Autoregressive models* are a type of linear regression model that directly incorporate the autocorrelation of the time series to predict the current response.\n",
        "\n",
        "Their main characteristic is that the predictors of the current value of the series are its past values.\n",
        "\n",
        "-   An autoregressive model of order 2 has the mathematical form: $\\hat{Y}_t = \\hat{\\beta}_0 + \\hat{\\beta}_1 Y_{t-1} + \\hat{\\beta}_2 Y_{t-2}.$\n",
        "\n",
        "-   An order 3 model looks like this: $\\hat{Y}_t = \\hat{\\beta}_0 + \\hat{\\beta}_1 Y_{t-1} + \\hat{\\beta}_2 Y_{t-2} + \\hat{\\beta}_3 Y_{t-3}.$\n",
        "\n",
        "## ARIMA models\n",
        "\n",
        "</br>\n",
        "\n",
        "A special class of autoregressive models are [***ARIMA***]{style=\"color:purple;\"} ([*Autoregressive Integrated Moving Average*]{style=\"color:purple;\"}).\n",
        "\n",
        ". . .\n",
        "\n",
        "An ARIMA model consists of three elements:\n",
        "\n",
        "::: incremental\n",
        "1.  Integrated operators (*integrated*).\n",
        "2.  Autoregressive terms (*autoregressive*).\n",
        "3.  Stochastic terms (*moving average*).\n",
        ":::\n",
        "\n",
        "## 1. Integrated or differentiatedoperators (I)\n",
        "\n",
        "</br>\n",
        "\n",
        "They create a new variable $Z_t$, which equals the difference between the current response and the delayed response by a number of periods or lags.\n",
        "\n",
        "There are three common levels of differentiation:\n",
        "\n",
        "-   Level 0: $Z_t = Y_t$.\n",
        "-   Level 1: $Z_t = Y_t - Y_{t-1}$.\n",
        "-   Level 2: $Z_t = (Y_t - Y_{t-1}) - (Y_{t-1} - Y_{t-2})$.\n",
        "\n",
        "## Example 2\n",
        "\n",
        "We consider the time series \"CanadianWorkHours.xlsx\" that contains the average hours worked by a certain group of workers over a certain range of years.\n"
      ],
      "id": "34abb31c"
    },
    {
      "cell_type": "code",
      "metadata": {},
      "source": [
        "#| echo: true\n",
        "#| output: true\n",
        "#| fig-align: center\n",
        "\n",
        "CanadianWorkHours = pd.read_excel('CanadianWorkHours.xlsx')\n",
        "CanadianWorkHours.head(4)"
      ],
      "id": "5c7c86f9",
      "execution_count": null,
      "outputs": []
    },
    {
      "cell_type": "markdown",
      "metadata": {},
      "source": [
        "## Creating a train and a validation data\n",
        "\n",
        "Recall that we would like to train the model on earlier time periods and test it on later ones. To this end, we make the split using the code below.\n"
      ],
      "id": "2d8aec60"
    },
    {
      "cell_type": "code",
      "metadata": {},
      "source": [
        "#| echo: true\n",
        "#| output: false\n",
        "#| fig-align: center\n",
        "#| code-fold: false\n",
        "\n",
        "# Define the split point\n",
        "split_ratio = 0.8  # 80% train, 20% test\n",
        "split_point = int(len(CanadianWorkHours) * split_ratio)\n",
        "\n",
        "# Split the data\n",
        "Canadian_train = CanadianWorkHours[:split_point]\n",
        "Canadian_validation = CanadianWorkHours[split_point:]"
      ],
      "id": "9ee63dba",
      "execution_count": null,
      "outputs": []
    },
    {
      "cell_type": "markdown",
      "metadata": {},
      "source": [
        "We use 80% of the time series for training and the rest for validation.\n",
        "\n",
        "## Training data\n"
      ],
      "id": "73ad3437"
    },
    {
      "cell_type": "code",
      "metadata": {},
      "source": [
        "#| echo: true\n",
        "#| output: true\n",
        "#| fig-align: center\n",
        "#| code-fold: true\n",
        "\n",
        "plt.figure(figsize=(10, 6))\n",
        "sns.lineplot(x='Year', y='Hours per Week', data = Canadian_train)\n",
        "plt.xlabel('Year')\n",
        "plt.ylabel('Hours per Week')\n",
        "plt.title('Hours per Week Over Time')\n",
        "plt.show()"
      ],
      "id": "051f99d0",
      "execution_count": null,
      "outputs": []
    },
    {
      "cell_type": "markdown",
      "metadata": {},
      "source": [
        "## \n",
        "\n",
        "</br></br>\n",
        "\n",
        "In **statsmodels**, we apply the integration operator using the pre-loaded `diff()` function. The function's `k_diff` argument specifies the order or level of the operator.\n",
        "\n",
        "</br>\n",
        "\n",
        "First, let's use a level-1 operator.\n"
      ],
      "id": "832cd818"
    },
    {
      "cell_type": "code",
      "metadata": {},
      "source": [
        "#| echo: true\n",
        "#| output: true\n",
        "#| fig-align: center\n",
        "\n",
        "Z_series_one = diff(Canadian_train['Hours per Week'], k_diff = 1)"
      ],
      "id": "f49c78bb",
      "execution_count": null,
      "outputs": []
    },
    {
      "cell_type": "markdown",
      "metadata": {},
      "source": [
        "## \n",
        "\n",
        "The time series with a level-1 operator looks like this.\n"
      ],
      "id": "7fba017e"
    },
    {
      "cell_type": "code",
      "metadata": {},
      "source": [
        "#| echo: true\n",
        "#| output: true\n",
        "#| fig-align: center\n",
        "#| code-fold: true\n",
        "\n",
        "plt.figure(figsize=(10, 6))\n",
        "sns.lineplot(x=Canadian_train['Year'], y=Z_series_one)\n",
        "plt.xlabel('Year')\n",
        "plt.ylabel('Difference Level 1')\n",
        "plt.show()"
      ],
      "id": "ad80a0b1",
      "execution_count": null,
      "outputs": []
    },
    {
      "cell_type": "markdown",
      "metadata": {},
      "source": [
        "## \n",
        "\n",
        "A level-2 operator would work like this.\n"
      ],
      "id": "2bbe97fc"
    },
    {
      "cell_type": "code",
      "metadata": {},
      "source": [
        "#| echo: true\n",
        "#| output: true\n",
        "#| fig-align: center\n",
        "\n",
        "Z_series_two = diff(Canadian_train['Hours per Week'], k_diff = 2)"
      ],
      "id": "28d5ac8c",
      "execution_count": null,
      "outputs": []
    },
    {
      "cell_type": "code",
      "metadata": {},
      "source": [
        "#| echo: true\n",
        "#| output: true\n",
        "#| fig-align: center\n",
        "#| code-fold: true\n",
        "\n",
        "plt.figure(figsize=(9, 5))\n",
        "sns.lineplot(x=Canadian_train['Year'], y=Z_series_two)\n",
        "plt.xlabel('Year')\n",
        "plt.ylabel('Difference Level 2')\n",
        "plt.show()"
      ],
      "id": "384d04d3",
      "execution_count": null,
      "outputs": []
    },
    {
      "cell_type": "markdown",
      "metadata": {},
      "source": [
        "## \n",
        "\n",
        "We see that the level 2 operator is more successful in removing the trend from the original time series.\n",
        "\n",
        ":::::: center\n",
        "::::: columns\n",
        "::: {.column width=\"50%\"}"
      ],
      "id": "4821c9bf"
    },
    {
      "cell_type": "code",
      "metadata": {},
      "source": [
        "#| echo: false\n",
        "#| output: true\n",
        "#| fig-align: center\n",
        "\n",
        "plt.figure(figsize=(6, 6))\n",
        "sns.lineplot(x=Canadian_train['Year'], y=Z_series_one)\n",
        "plt.xlabel('Year')\n",
        "plt.ylabel('Difference Level 1')\n",
        "plt.show()"
      ],
      "id": "9a4d07b1",
      "execution_count": null,
      "outputs": []
    },
    {
      "cell_type": "markdown",
      "metadata": {},
      "source": [
        ":::\n",
        "\n",
        "::: {.column width=\"50%\"}"
      ],
      "id": "3cf4817b"
    },
    {
      "cell_type": "code",
      "metadata": {},
      "source": [
        "#| echo: false\n",
        "#| output: true\n",
        "#| fig-align: center\n",
        "\n",
        "plt.figure(figsize=(6, 6))\n",
        "sns.lineplot(x=Canadian_train['Year'], y=Z_series_two)\n",
        "plt.xlabel('Year')\n",
        "plt.ylabel('Difference Level 2')\n",
        "plt.show()"
      ],
      "id": "200cb14e",
      "execution_count": null,
      "outputs": []
    },
    {
      "cell_type": "markdown",
      "metadata": {},
      "source": [
        ":::\n",
        ":::::\n",
        "::::::\n",
        "\n",
        "## Comments\n",
        "\n",
        "</br></br>\n",
        "\n",
        "The differentiation operator removes or de-trends the time series.\n",
        "\n",
        "-   The level 0 differentiation operator leaves the time series intact.\n",
        "-   The level 1 differentiation operator removes its linear trend.\n",
        "-   The level 2 differentiation operator removes its quadratic trend.\n",
        "\n",
        "## How do we determine the operator level?\n",
        "\n",
        "</br>\n",
        "\n",
        "Visualizing the time series and determining whether there is a linear or quadratic trend.\n",
        "\n",
        "If level 1 and level 2 operators yield similar results, we choose level 1 because it is simpler.\n",
        "\n",
        "[*Once this is done, we set our transformed variable* $Z_t$ as the new response variable.]{style=\"color:purple;\"}\n",
        "\n",
        "## 2. Autoregressive (AR) terms\n",
        "\n",
        "</br>\n",
        "\n",
        "Here we use autoregressive models, but with the new response variable $Z_t$.\n",
        "\n",
        "We can have different levels of order (or number of terms) in the autoregression model. For example:\n",
        "\n",
        "-   Order 1 model: $\\hat{Z}_t = \\hat{\\beta}_0 + \\hat{\\beta}_1 Z_{t-1}$.\n",
        "\n",
        "-   Order 2 model: $\\hat{Z}_t = \\hat{\\beta}_0 + \\hat{\\beta}_1 Z_{t-1} + \\hat{\\beta}_2 Z_{t-2}$.\n",
        "\n",
        "If necessary, we can exclude the constant coefficient $\\hat{\\beta}_0$ from the model.\n",
        "\n",
        "## How do we determine the number of terms?\n",
        "\n",
        "</br></br></br>\n",
        "\n",
        "Using the correlation functions (ACF) and partial correlation functions (PACF) of the differenced series.\n",
        "\n",
        "## \n",
        "\n",
        ":::::: center\n",
        "::::: columns\n",
        "::: {.column width=\"50%\"}"
      ],
      "id": "50b37d34"
    },
    {
      "cell_type": "code",
      "metadata": {},
      "source": [
        "#| echo: false\n",
        "#| output: true\n",
        "#| fig-align: center\n",
        "\n",
        "plt.figure(figsize=(3, 3))\n",
        "plot_acf(Z_series_two, lags = 10)\n",
        "plt.xlabel(\"Lag\")\n",
        "plt.ylabel(\"Correlation\")\n",
        "plt.show()"
      ],
      "id": "97d4a8d5",
      "execution_count": null,
      "outputs": []
    },
    {
      "cell_type": "markdown",
      "metadata": {},
      "source": [
        ":::\n",
        "\n",
        "::: {.column width=\"50%\"}"
      ],
      "id": "ffded13d"
    },
    {
      "cell_type": "code",
      "metadata": {},
      "source": [
        "#| echo: false\n",
        "#| output: true\n",
        "#| fig-align: center\n",
        "\n",
        "plt.figure(figsize=(3, 3))\n",
        "plot_pacf(Z_series_two, lags = 10)\n",
        "plt.xlabel(\"Lag\")\n",
        "plt.ylabel(\"Correlation\")\n",
        "plt.show()"
      ],
      "id": "113b9b5d",
      "execution_count": null,
      "outputs": []
    },
    {
      "cell_type": "markdown",
      "metadata": {},
      "source": [
        ":::\n",
        ":::::\n",
        "::::::\n",
        "\n",
        "To achieve this, we have some rules.\n",
        "\n",
        "## Rule 1\n",
        "\n",
        "</br></br>\n",
        "\n",
        "A first-order autoregressive model has:\n",
        "\n",
        "1.  An ACF with a single peak at the first period difference (lag).\n",
        "\n",
        "2.  An ACF with exponentially decreasing correlations.\n",
        "\n",
        "## Rule 2\n",
        "\n",
        "</br></br>\n",
        "\n",
        "A second-order autoregressive model has:\n",
        "\n",
        "1.  A PACF with two peaks at the first period differences (lags).\n",
        "\n",
        "2.  An ACF with correlations that decrease positively and negatively but approach zero.\n",
        "\n",
        "## Rule 3\n",
        "\n",
        "</br>\n",
        "\n",
        "If the PACF of the differenced series $Z_t$ shows a higher partial correlation than the others and/or the lag-1 autocorrelation is positive, then consider adding an AR term to the model.\n",
        "\n",
        "</br>\n",
        "\n",
        "The lag at which the PACF cuts off from the confidence limits in the software is the indicated number of AR terms.\n",
        "\n",
        "## \n",
        "\n",
        "Following part 1 of Rule 1, we conclude that an autoregressive term of order 2 will be sufficient to capture the relationships between the elements of the series.\n"
      ],
      "id": "88718b85"
    },
    {
      "cell_type": "code",
      "metadata": {},
      "source": [
        "#| echo: false\n",
        "#| output: true\n",
        "#| fig-align: center\n",
        "\n",
        "plt.figure(figsize=(3, 3))\n",
        "plot_pacf(Z_series_two, lags = 10)\n",
        "plt.xlabel(\"Lag\")\n",
        "plt.ylabel(\"Correlation\")\n",
        "plt.show()"
      ],
      "id": "9e0f5d6d",
      "execution_count": null,
      "outputs": []
    },
    {
      "cell_type": "markdown",
      "metadata": {},
      "source": [
        "## 3. Stochastic Terms (Moving Averages, MA)\n",
        "\n",
        "Instead of using past values of the response variable, a moving average model uses stochastic terms to predict the current response. The model has different versions depending on the number of errors used to predict the response. For example:\n",
        "\n",
        "-   MA of order 1: $Z_t = \\theta_0 + \\theta_1 a_{t-1}$;\n",
        "-   MA of order 2: $Z_t = \\theta_0 + \\theta_1 a_{t-1} + \\theta_2 a_{t-2}$,\n",
        "\n",
        "where $\\theta_0$ is a constant and $a_t$ are terms from a white noise series (i.e., random terms).\n",
        "\n",
        "## How do I choose the order of the MAs?\n",
        "\n",
        "</br></br>\n",
        "\n",
        "**Rule 4**: MA models have:\n",
        "\n",
        "1.  Correlations other than 0 in the ACF. The lags at which this occurs indicate the terms to include in the MA model.\n",
        "\n",
        "2.  Correlations in the PACF that gradually decrease to zero in some way.\n",
        "\n",
        "## \n",
        "\n",
        "::: {style=\"font-size: 90%;\"}\n",
        "This means that to determine the order, we focus primarily on the autocorrelation function. Remember, it's the autocorrelation function of the series after it's been differentiated.\n",
        ":::\n"
      ],
      "id": "d84c882f"
    },
    {
      "cell_type": "code",
      "metadata": {},
      "source": [
        "#| echo: false\n",
        "#| output: true\n",
        "#| fig-align: center\n",
        "\n",
        "plt.figure(figsize=(3, 3))\n",
        "plot_acf(Z_series_two, lags = 10)\n",
        "plt.xlabel(\"Lag\")\n",
        "plt.ylabel(\"Correlation\")\n",
        "plt.show()"
      ],
      "id": "e9ebc034",
      "execution_count": null,
      "outputs": []
    },
    {
      "cell_type": "markdown",
      "metadata": {},
      "source": [
        "## \n",
        "\n",
        "[*Since there is no significant correlation for any lag above 0, we do not need any MA elements to model the series.*]{style=\"color:darkblue;\"}\n"
      ],
      "id": "d6e48479"
    },
    {
      "cell_type": "code",
      "metadata": {},
      "source": [
        "#| echo: false\n",
        "#| output: true\n",
        "#| fig-align: center\n",
        "\n",
        "plt.figure(figsize=(3, 3))\n",
        "plot_acf(Z_series_two, lags = 10)\n",
        "plt.xlabel(\"Lag\")\n",
        "plt.ylabel(\"Correlation\")\n",
        "plt.show()"
      ],
      "id": "d2d78934",
      "execution_count": null,
      "outputs": []
    },
    {
      "cell_type": "markdown",
      "metadata": {},
      "source": [
        "## ARIMA\n",
        "\n",
        "</br>\n",
        "\n",
        "::: incremental\n",
        "1.  Define the response differentiation level and create $Z_t$.\n",
        "\n",
        "2.  Define the order of the AR model (e.g., order 2).\n",
        "\n",
        "3.  Define the order of the MA model (e.g., order 1).\n",
        ":::\n",
        "\n",
        ". . .\n",
        "\n",
        "::: center\n",
        "$$\\hat{Z}_t = \\hat{\\beta}_0 + \\hat{\\beta}_1 Z_{t-1} + \\hat{\\beta}_2 Z_{t-2} + \\theta_1 a_{t-1}$$\n",
        ":::\n",
        "\n",
        ". . .\n",
        "\n",
        "The ARIMA model coefficients are estimated using an advanced method that takes into account the dependencies between the time series responses.\n",
        "\n",
        "## ARIMA in Pyhon\n",
        "\n",
        "</br></br>\n",
        "\n",
        "To fit an ARIMA model, we use the `ARIMA()` function from **statsmodels**.\n",
        "\n",
        "The function has an important argument called `order`, which equals `(p,d,q)`, where\n",
        "\n",
        "-   `p` is the order of the autoregressive model.\n",
        "-   `d` is the level of the integration or differencing operator.\n",
        "-   `q` is the number of elements in the moving average.\n",
        "\n",
        "## \n",
        "\n",
        "</br>\n",
        "\n",
        "From our previous analysis of the training data for the Canadian workhours example, we conclude that:\n",
        "\n",
        "-   We must use a level-2 differencing operator to remove the quadratic trend from the series. Therefore, `d = 2`.\n",
        "\n",
        "-   One autoregressive term should be sufficient to capture the patterns in the time series. Therefore, `p = 2`.\n",
        "\n",
        "-   It is not necessary to have moving average terms. Therefore, `q = 0`.\n",
        "\n",
        "## \n",
        "\n",
        "</br></br>\n",
        "\n",
        "Once this is defined, we can train an ARIMA model using the training data with the following code:\n"
      ],
      "id": "e5419fdd"
    },
    {
      "cell_type": "code",
      "metadata": {},
      "source": [
        "#| echo: true\n",
        "#| output: false\n",
        "#| fig-align: center\n",
        "\n",
        "Arima_Canadian = ARIMA(Canadian_train['Hours per Week'], \n",
        "                       order=(2, 2, 0))\n",
        "results_ARIMA_Canadian = Arima_Canadian.fit()"
      ],
      "id": "8dae1e54",
      "execution_count": null,
      "outputs": []
    },
    {
      "cell_type": "markdown",
      "metadata": {},
      "source": [
        "Technically, `ARIMA()` defines the model and `.fit()` fits the model to the data using *maximum likelihood estimation*.\n",
        "\n",
        "## \n",
        "\n",
        "After fitting, we can get a summary of the model fit using the following code.\n"
      ],
      "id": "904e4643"
    },
    {
      "cell_type": "code",
      "metadata": {},
      "source": [
        "#| echo: true\n",
        "#| output: true\n",
        "#| fig-align: center\n",
        "\n",
        "print(results_ARIMA_Canadian.summary())"
      ],
      "id": "ba6d1977",
      "execution_count": null,
      "outputs": []
    },
    {
      "cell_type": "markdown",
      "metadata": {},
      "source": [
        "## \n",
        "\n",
        "</br></br>\n",
        "\n",
        "**The next step in evaluating an ARIMA model is to study the model's residuals to ensure there is nothing else to explain in the model.**\n",
        "\n",
        "</br>\n",
        "\n",
        "We can obtain the residuals using the following code.\n"
      ],
      "id": "62fd57c3"
    },
    {
      "cell_type": "code",
      "metadata": {},
      "source": [
        "#| echo: true\n",
        "#| output: false\n",
        "#| fig-align: center\n",
        "\n",
        "ARIMA_residuals = results_ARIMA_Canadian.resid\n",
        "ARIMA_residuals = ARIMA_residuals.drop(0)"
      ],
      "id": "91bbe720",
      "execution_count": null,
      "outputs": []
    },
    {
      "cell_type": "markdown",
      "metadata": {},
      "source": [
        "## Time series of residuals\n"
      ],
      "id": "7de6389a"
    },
    {
      "cell_type": "code",
      "metadata": {},
      "source": [
        "#| echo: true\n",
        "#| output: true\n",
        "#| fig-align: center\n",
        "#| code-fold: true\n",
        "\n",
        "plt.figure(figsize=(10, 6))\n",
        "sns.lineplot(x=Canadian_train['Year'], y=ARIMA_residuals)\n",
        "plt.xlabel('Year')\n",
        "plt.ylabel('Residuals')\n",
        "plt.show()"
      ],
      "id": "0a2be03c",
      "execution_count": null,
      "outputs": []
    },
    {
      "cell_type": "markdown",
      "metadata": {},
      "source": [
        "## Correlation plots\n",
        "\n",
        ":::::: center\n",
        "::::: columns\n",
        "::: {.column width=\"50%\"}"
      ],
      "id": "68ae34ad"
    },
    {
      "cell_type": "code",
      "metadata": {},
      "source": [
        "#| echo: false\n",
        "#| output: true\n",
        "#| fig-align: center\n",
        "\n",
        "plot_acf(ARIMA_residuals, lags = 10)\n",
        "plt.xlabel(\"Lag\")\n",
        "plt.ylabel(\"Correlation\")\n",
        "plt.show()"
      ],
      "id": "dc8c1e2d",
      "execution_count": null,
      "outputs": []
    },
    {
      "cell_type": "markdown",
      "metadata": {},
      "source": [
        ":::\n",
        "\n",
        "::: {.column width=\"50%\"}"
      ],
      "id": "acc491ce"
    },
    {
      "cell_type": "code",
      "metadata": {},
      "source": [
        "#| echo: false\n",
        "#| output: true\n",
        "#| fig-align: center\n",
        "\n",
        "plot_pacf(ARIMA_residuals, lags = 10)\n",
        "plt.xlabel(\"Lag\")\n",
        "plt.ylabel(\"Correlation\")\n",
        "plt.show()"
      ],
      "id": "d0a7d28c",
      "execution_count": null,
      "outputs": []
    },
    {
      "cell_type": "markdown",
      "metadata": {},
      "source": [
        ":::\n",
        ":::::\n",
        "::::::\n",
        "\n",
        "## \n",
        "\n",
        "</br></br></br>\n",
        "\n",
        "[**The three graphs show no obvious patterns or significant correlations between the residuals. Therefore, we say the model is correct.**]{style=\"color:darkgreen;\"}\n",
        "\n",
        "## Forecast\n",
        "\n",
        "Once the model is validated, we make predictions for elements in the time series.\n",
        "\n",
        "</br>\n",
        "\n",
        "To predict the average number of hours worked in the next, say, 3 years, we use the `.forecast()` function. The `steps` argument indicates the number of steps in the future to make the predictions.\n"
      ],
      "id": "f084a2eb"
    },
    {
      "cell_type": "code",
      "metadata": {},
      "source": [
        "#| echo: true\n",
        "#| output: true\n",
        "#| fig-align: center\n",
        "\n",
        "results_ARIMA_Canadian.forecast(steps = 3)"
      ],
      "id": "10d76d9a",
      "execution_count": null,
      "outputs": []
    },
    {
      "cell_type": "markdown",
      "metadata": {},
      "source": [
        "## Model evaluation using MSE\n",
        "\n",
        "</br></br>\n",
        "\n",
        "Instead of evaluating the ARIMA model using graphical analyses of the residuals, we can take a more *data-driven* approach and evaluate the model using the mean squared error (MSE) or root MSE.\n",
        "\n",
        "To this end, we simply use the `mean_squared_error()` function with the validation responses and our predictions.\n",
        "\n",
        "## Validation data\n"
      ],
      "id": "71bd9a2a"
    },
    {
      "cell_type": "code",
      "metadata": {},
      "source": [
        "#| echo: true\n",
        "#| output: true\n",
        "#| fig-align: center\n",
        "\n",
        "Canadian_validation"
      ],
      "id": "c2ac57e8",
      "execution_count": null,
      "outputs": []
    },
    {
      "cell_type": "markdown",
      "metadata": {},
      "source": [
        "## \n",
        "\n",
        "</br>\n",
        "\n",
        "The validation data has 7 time periods that can be determined using the command below.\n"
      ],
      "id": "0e977f23"
    },
    {
      "cell_type": "code",
      "metadata": {},
      "source": [
        "#| echo: true\n",
        "#| output: true\n",
        "#| fig-align: center\n",
        "\n",
        "len(Canadian_validation)"
      ],
      "id": "af09e20b",
      "execution_count": null,
      "outputs": []
    },
    {
      "cell_type": "markdown",
      "metadata": {},
      "source": [
        "So, we must forecast 7 periods ahead using our ARIMA model.\n"
      ],
      "id": "635f724e"
    },
    {
      "cell_type": "code",
      "metadata": {},
      "source": [
        "#| echo: true\n",
        "#| output: true\n",
        "#| fig-align: center\n",
        "\n",
        "forecast_Canadian = results_ARIMA_Canadian.forecast(steps = 7)\n",
        "forecast_Canadian"
      ],
      "id": "3fd5ec0b",
      "execution_count": null,
      "outputs": []
    },
    {
      "cell_type": "markdown",
      "metadata": {},
      "source": [
        "## \n",
        "\n",
        "</br>\n",
        "\n",
        "Using the forecast and validation data, we compute the RMSE.\n"
      ],
      "id": "0b000366"
    },
    {
      "cell_type": "code",
      "metadata": {},
      "source": [
        "#| echo: true\n",
        "#| output: true\n",
        "#| fig-align: center\n",
        "\n",
        "mse = mean_squared_error(Canadian_validation[\"Hours per Week\"], forecast_Canadian)  \n",
        "print(round(mse**(1/2), 2))"
      ],
      "id": "a357859c",
      "execution_count": null,
      "outputs": []
    },
    {
      "cell_type": "markdown",
      "metadata": {},
      "source": [
        "We can also compute the $R^2$ score.\n"
      ],
      "id": "749cd564"
    },
    {
      "cell_type": "code",
      "metadata": {},
      "source": [
        "#| echo: true\n",
        "#| output: true\n",
        "#| fig-align: center\n",
        "\n",
        "rtwo = r2_score(Canadian_validation[\"Hours per Week\"], forecast_Canadian)  \n",
        "print(round(rtwo, 2))"
      ],
      "id": "e8a17534",
      "execution_count": null,
      "outputs": []
    },
    {
      "cell_type": "markdown",
      "metadata": {},
      "source": [
        "> A negative signifies that the model's predictions are worse than simply predicting the average of the response\n",
        "\n",
        "## \n",
        "\n",
        "</br>\n"
      ],
      "id": "8bc43c4b"
    },
    {
      "cell_type": "code",
      "metadata": {},
      "source": [
        "#| echo: false\n",
        "#| output: true\n",
        "#| fig-align: center\n",
        "\n",
        "# Forecast the next steps (length of validation set)\n",
        "\n",
        "# Build a DataFrame for the forecast with corresponding years\n",
        "forecast_years = Canadian_validation['Year'].values\n",
        "forecast_df = pd.DataFrame({\n",
        "    'Year': forecast_years,\n",
        "    'Hours per Week': forecast_Canadian,\n",
        "    'Type': 'Forecast'\n",
        "})\n",
        "\n",
        "# Add 'Type' column to training and validation data\n",
        "Canadian_train_plot = Canadian_train.copy()\n",
        "Canadian_train_plot['Type'] = 'Train'\n",
        "\n",
        "Canadian_validation_plot = Canadian_validation.copy()\n",
        "Canadian_validation_plot['Type'] = 'Validation'\n",
        "\n",
        "# Concatenate everything\n",
        "plot_df = pd.concat([Canadian_train_plot, Canadian_validation_plot, forecast_df])\n",
        "\n",
        "# Plot using seaborn\n",
        "plt.figure(figsize=(10, 6))\n",
        "sns.lineplot(data=plot_df, x='Year', y='Hours per Week', hue='Type', style='Type', markers=False)\n",
        "plt.xlabel('Year')\n",
        "plt.ylabel('Hours per Week')\n",
        "plt.title('Actual and Forecasted Hours per Week Over Time')\n",
        "plt.tight_layout()\n",
        "plt.show()"
      ],
      "id": "c117fd2a",
      "execution_count": null,
      "outputs": []
    },
    {
      "cell_type": "markdown",
      "metadata": {},
      "source": [
        "# The SARIMA Model\n",
        "\n",
        "## Seasonality\n",
        "\n",
        "</br></br>\n",
        "\n",
        "-   Seasonality consists of repetitive or cyclical behavior that occurs with a constant frequency.\n",
        "\n",
        "-   It can be identified from the series graph or using the ACF and PACF.\n",
        "\n",
        "-   To do this, we must have removed the trend.\n",
        "\n",
        "## Example 3\n",
        "\n",
        "We use the Airline data containing the number of passengers of an international airline per month between 1949 and 1960.\n"
      ],
      "id": "bdb346ee"
    },
    {
      "cell_type": "code",
      "metadata": {},
      "source": [
        "#| echo: true\n",
        "#| output: true\n",
        "#| fig-align: center\n",
        "#| code-fold: false\n",
        "\n",
        "Airline_data = pd.read_excel(\"Airline.xlsx\")\n",
        "Airline_data.head()"
      ],
      "id": "b4c5497e",
      "execution_count": null,
      "outputs": []
    },
    {
      "cell_type": "markdown",
      "metadata": {},
      "source": [
        "## Create training and validation data\n",
        "\n",
        "</br></br>\n",
        "\n",
        "We use 80% of the time series for training and the rest for validation.\n"
      ],
      "id": "8b44f756"
    },
    {
      "cell_type": "code",
      "metadata": {},
      "source": [
        "#| echo: true\n",
        "#| output: false\n",
        "#| fig-align: center\n",
        "#| code-fold: false\n",
        "\n",
        "# Define the split point\n",
        "split_ratio = 0.8  # 80% train, 20% test\n",
        "split_point = int(len(Airline_data) * split_ratio)\n",
        "\n",
        "# Split the data\n",
        "Airline_train = Airline_data[:split_point]\n",
        "Airline_validation = Airline_data[split_point:]"
      ],
      "id": "865b3b91",
      "execution_count": null,
      "outputs": []
    },
    {
      "cell_type": "markdown",
      "metadata": {},
      "source": [
        "## Training data\n"
      ],
      "id": "e546345e"
    },
    {
      "cell_type": "code",
      "metadata": {},
      "source": [
        "#| echo: true\n",
        "#| output: true\n",
        "#| fig-align: center\n",
        "#| code-fold: true\n",
        "\n",
        "plt.figure(figsize=(8, 5))\n",
        "sns.lineplot(x='T', y='Number of passengers', data = Airline_train)\n",
        "plt.xlabel('T')\n",
        "plt.ylabel('Number of passengers')\n",
        "plt.xticks(rotation=45)\n",
        "plt.tight_layout()\n",
        "plt.show()"
      ],
      "id": "cc95ef49",
      "execution_count": null,
      "outputs": []
    },
    {
      "cell_type": "markdown",
      "metadata": {},
      "source": [
        "## \n",
        "\n",
        "First, let's use a level-1 operator.\n"
      ],
      "id": "89347601"
    },
    {
      "cell_type": "code",
      "metadata": {},
      "source": [
        "#| echo: true\n",
        "#| output: true\n",
        "#| fig-align: center\n",
        "\n",
        "Z_series_one = diff(Airline_train['Number of passengers'], k_diff = 1)"
      ],
      "id": "5920daa2",
      "execution_count": null,
      "outputs": []
    },
    {
      "cell_type": "code",
      "metadata": {},
      "source": [
        "#| echo: true\n",
        "#| output: true\n",
        "#| fig-align: center\n",
        "#| code-fold: true\n",
        "\n",
        "plt.figure(figsize=(8, 5))\n",
        "sns.lineplot(x=Airline_train['Number of passengers'], y=Z_series_one)\n",
        "plt.xlabel('T')\n",
        "plt.ylabel('Difference Level 1')\n",
        "plt.show()"
      ],
      "id": "3a1eb138",
      "execution_count": null,
      "outputs": []
    },
    {
      "cell_type": "markdown",
      "metadata": {},
      "source": [
        "## Autocorrelation plots\n",
        "\n",
        "</br>\n",
        "\n",
        ":::::: center\n",
        "::::: columns\n",
        "::: {.column width=\"50%\"}"
      ],
      "id": "5e715a7c"
    },
    {
      "cell_type": "code",
      "metadata": {},
      "source": [
        "#| echo: false\n",
        "#| output: true\n",
        "#| fig-align: center\n",
        "\n",
        "plt.figure(figsize=(3, 3))\n",
        "plot_acf(Z_series_one, lags = 13)\n",
        "plt.xlabel(\"Lag\")\n",
        "plt.ylabel(\"Correlation\")\n",
        "plt.show()"
      ],
      "id": "9e2a5553",
      "execution_count": null,
      "outputs": []
    },
    {
      "cell_type": "markdown",
      "metadata": {},
      "source": [
        ":::\n",
        "\n",
        "::: {.column width=\"50%\"}"
      ],
      "id": "37696b0b"
    },
    {
      "cell_type": "code",
      "metadata": {},
      "source": [
        "#| echo: false\n",
        "#| output: true\n",
        "#| fig-align: center\n",
        "\n",
        "plt.figure(figsize=(3, 3))\n",
        "plot_pacf(Z_series_one, lags = 13)\n",
        "plt.xlabel(\"Lag\")\n",
        "plt.ylabel(\"Correlation\")\n",
        "plt.show()"
      ],
      "id": "5a758d74",
      "execution_count": null,
      "outputs": []
    },
    {
      "cell_type": "markdown",
      "metadata": {},
      "source": [
        ":::\n",
        ":::::\n",
        "::::::\n",
        "\n",
        "## SARIMA model\n",
        "\n",
        "The [S]{style=\"color:orange;\"}ARIMA ([*Seasonal*]{style=\"color:orange;\"} Autoregressive Integrated Moving Average) model is an extension of the ARIMA model for modeling seasonality patterns.\n",
        "\n",
        "The SARIMA model has three additional elements for modeling seasonality in time series.\n",
        "\n",
        "1.  Differenced or integrated operators (*integrated*) for seasonality.\n",
        "2.  Autoregressive terms (*autoregressive*) for seasonality.\n",
        "3.  Stochastic terms or moving averages (*moving average*) for seasonality.\n",
        "\n",
        "## Notation\n",
        "\n",
        "</br>\n",
        "\n",
        "Seasonality in a time series is a regular pattern of change that repeats over [$S$ time periods]{style=\"color:orange;\"}, where $S$ defines the number of time periods until the pattern repeats again.\n",
        "\n",
        "For example, there is seasonality in monthly data, where high values always tend to occur in some particular months and low values always tend to occur in other particular months.\n",
        "\n",
        "In this case, $S=12$ (months per year) is the length of periodic seasonal behavior. For quarterly data, $S=4$ time periods per year.\n",
        "\n",
        "## Seasonal differentiation\n",
        "\n",
        "</br>\n",
        "\n",
        "This is the difference between a response and a response with a lag that is a multiple of $S$.\n",
        "\n",
        "For example, with monthly data $S=12$,\n",
        "\n",
        "-   A level 1 seasonal difference is $Y_{t} - Y_{t-12}$.\n",
        "-   A level 2 seasonal difference is $(Y_{t-12}) - (Y_{t-12} - Y_{t-24})$.\n",
        "\n",
        "Seasonal differencing eliminates the seasonal trend and can also eliminate a type of nonstationarity caused by a seasonal random walk.\n",
        "\n",
        "## Seasonal AR and MA Terms\n",
        "\n",
        "In SARIMA, the seasonal AR and MA component terms predict the current response ($Y_t$) using responses and errors at times with lags that are multiples of $S$.\n",
        "\n",
        "For example, with monthly data $S = 12$,\n",
        "\n",
        "::: {style=\"font-size: 85%;\"}\n",
        "-   The first-order seasonal AR model would use $Y_{t-12}$ to predict $Y_{t}$.\n",
        "-   The second-order seasonal AR model would use $Y_{t-12}$ and $Y_{t-24}$ to predict $Y_{t}$.\n",
        "-   The first-order seasonal MA model would use the stochastic term $a_{t-12}$ as a predictor.\n",
        "-   The second-order seasonal MA model would use the stochastic terms $a_{t-12}$ and $a_{t-24}$ as predictors.\n",
        ":::\n",
        "\n",
        "## \n",
        "\n",
        "</br></br>\n",
        "\n",
        "To fit the SARIMA model, we use the `ARIMA()` function from **statsmodels**, but with an additional argument, `seasonal_order=(0, 0, 0, 0)`.\n",
        "\n",
        "</br>\n",
        "\n",
        "This is the order (P, D, Q, s) of the seasonal component of the model for the autoregressive parameters, differencing operator levels, moving average parameters, and periodicity.\n",
        "\n",
        "::: notes\n",
        "Recall that the function has the argument `order = (p, d, q)` where `p` is the order of the autoregressive model, `d` is the differencing operator level, and `q` is the number of elements in the moving average.\n",
        "\n",
        "These arguments capture the detailed information of the time series, while seasonal_order captures the patterns given by seasonality.\n",
        ":::\n",
        "\n",
        "## \n",
        "\n",
        "</br></br></br>\n",
        "\n",
        "Let's fit a SARIMA model.\n"
      ],
      "id": "5a025fc2"
    },
    {
      "cell_type": "code",
      "metadata": {},
      "source": [
        "#| echo: true\n",
        "#| output: true\n",
        "#| fig-align: center\n",
        "#| code-fold: false\n",
        "\n",
        "SARIMA_model = ARIMA(Airline_train['Number of passengers'], order=(1, 2, 1), \n",
        "                      seasonal_order=(1, 1, 0, 12))\n",
        "SARIMA_Airline = SARIMA_model.fit()"
      ],
      "id": "5695d3f1",
      "execution_count": null,
      "outputs": []
    },
    {
      "cell_type": "markdown",
      "metadata": {},
      "source": [
        "## Summary of fit\n"
      ],
      "id": "14ef1262"
    },
    {
      "cell_type": "code",
      "metadata": {},
      "source": [
        "#| echo: true\n",
        "#| output: true\n",
        "#| fig-align: center\n",
        "#| code-fold: false\n",
        "\n",
        "print(SARIMA_Airline.summary())"
      ],
      "id": "37adb34f",
      "execution_count": null,
      "outputs": []
    },
    {
      "cell_type": "markdown",
      "metadata": {},
      "source": [
        "## Residual analysis\n",
        "\n",
        "We can have a graphical evaluation of the model's performance using a residual analysis.\n"
      ],
      "id": "f2ab7e4d"
    },
    {
      "cell_type": "code",
      "metadata": {},
      "source": [
        "#| echo: true\n",
        "#| output: true\n",
        "#| fig-align: center\n",
        "#| code-fold: false\n",
        "\n",
        "SARIMA_residuals = SARIMA_Airline.resid\n",
        "SARIMA_residuals = SARIMA_residuals.drop(0)"
      ],
      "id": "7d4dba54",
      "execution_count": null,
      "outputs": []
    },
    {
      "cell_type": "code",
      "metadata": {},
      "source": [
        "#| echo: true\n",
        "#| output: true\n",
        "#| fig-align: center\n",
        "#| code-fold: true\n",
        "\n",
        "plt.figure(figsize=(8, 3.5))\n",
        "sns.lineplot(x=Airline_train['T'], y=SARIMA_residuals)\n",
        "plt.xlabel('Year')\n",
        "plt.ylabel('Residuals')\n",
        "plt.show()"
      ],
      "id": "935aebf6",
      "execution_count": null,
      "outputs": []
    },
    {
      "cell_type": "markdown",
      "metadata": {},
      "source": [
        "## \n",
        "\n",
        "</br>\n",
        "\n",
        ":::::: center\n",
        "::::: columns\n",
        "::: {.column width=\"50%\"}"
      ],
      "id": "82f77e25"
    },
    {
      "cell_type": "code",
      "metadata": {},
      "source": [
        "#| echo: false\n",
        "#| output: true\n",
        "#| fig-align: center\n",
        "\n",
        "plt.figure(figsize=(6, 6))\n",
        "plot_acf(SARIMA_residuals, lags = 24)\n",
        "plt.xlabel(\"Lag\")\n",
        "plt.ylabel(\"Correlation\")\n",
        "plt.show()"
      ],
      "id": "00c4d47f",
      "execution_count": null,
      "outputs": []
    },
    {
      "cell_type": "markdown",
      "metadata": {},
      "source": [
        ":::\n",
        "\n",
        "::: {.column width=\"50%\"}"
      ],
      "id": "4ebb2953"
    },
    {
      "cell_type": "code",
      "metadata": {},
      "source": [
        "#| echo: false\n",
        "#| output: true\n",
        "#| fig-align: center\n",
        "\n",
        "plt.figure(figsize=(6, 6))\n",
        "plot_pacf(SARIMA_residuals, lags = 24)\n",
        "plt.xlabel(\"Lag\")\n",
        "plt.ylabel(\"Correlation\")\n",
        "plt.show()"
      ],
      "id": "86313e8c",
      "execution_count": null,
      "outputs": []
    },
    {
      "cell_type": "markdown",
      "metadata": {},
      "source": [
        ":::\n",
        ":::::\n",
        "::::::\n",
        "\n",
        "## Validation\n",
        "\n",
        "The validation data has 29 time periods that can be determined using the command below.\n"
      ],
      "id": "bd8e37c3"
    },
    {
      "cell_type": "code",
      "metadata": {},
      "source": [
        "#| echo: true\n",
        "#| output: true\n",
        "#| fig-align: center\n",
        "\n",
        "len(Airline_validation)"
      ],
      "id": "e1361be4",
      "execution_count": null,
      "outputs": []
    },
    {
      "cell_type": "markdown",
      "metadata": {},
      "source": [
        "</br>\n",
        "\n",
        "So, we must forecast 7 periods ahead using our ARIMA model.\n"
      ],
      "id": "d1ebe3d9"
    },
    {
      "cell_type": "code",
      "metadata": {},
      "source": [
        "#| echo: true\n",
        "#| output: true\n",
        "#| fig-align: center\n",
        "\n",
        "forecast_Airline = SARIMA_Airline.forecast(steps = 29)\n",
        "forecast_Airline.head(3)"
      ],
      "id": "206a150b",
      "execution_count": null,
      "outputs": []
    },
    {
      "cell_type": "markdown",
      "metadata": {},
      "source": [
        "## \n",
        "\n",
        "</br></br>\n",
        "\n",
        "Using the forecast and validation data, we compute the RMSE.\n"
      ],
      "id": "424f857e"
    },
    {
      "cell_type": "code",
      "metadata": {},
      "source": [
        "#| echo: true\n",
        "#| output: true\n",
        "#| fig-align: center\n",
        "\n",
        "mse = mean_squared_error(Airline_validation[\"Number of passengers\"], \n",
        "                        forecast_Airline)  \n",
        "print(round(mse**(1/2), 2))"
      ],
      "id": "97b1e965",
      "execution_count": null,
      "outputs": []
    },
    {
      "cell_type": "markdown",
      "metadata": {},
      "source": [
        "</br>\n",
        "\n",
        "We can also compute the $R^2$ score.\n"
      ],
      "id": "fc8763cf"
    },
    {
      "cell_type": "code",
      "metadata": {},
      "source": [
        "#| echo: true\n",
        "#| output: true\n",
        "#| fig-align: center\n",
        "\n",
        "rtwo = r2_score(Airline_validation[\"Number of passengers\"], forecast_Airline)  \n",
        "print(round(rtwo, 2))"
      ],
      "id": "17b4c7fc",
      "execution_count": null,
      "outputs": []
    },
    {
      "cell_type": "markdown",
      "metadata": {},
      "source": [
        "## \n",
        "\n",
        "</br>\n"
      ],
      "id": "8bab9689"
    },
    {
      "cell_type": "code",
      "metadata": {},
      "source": [
        "#| echo: false\n",
        "#| output: true\n",
        "#| fig-align: center\n",
        "\n",
        "# Forecast the next steps (length of validation set)\n",
        "\n",
        "# Build a DataFrame for the forecast with corresponding years\n",
        "forecast_years = Airline_validation['T'].values\n",
        "forecast_df = pd.DataFrame({\n",
        "    'T': forecast_years,\n",
        "    'Number of passengers': forecast_Airline,\n",
        "    'Type': 'Forecast'\n",
        "})\n",
        "\n",
        "# Add 'Type' column to training and validation data\n",
        "Airline_train_plot = Airline_train.copy()\n",
        "Airline_train_plot['Type'] = 'Train'\n",
        "\n",
        "Airline_validation_plot = Airline_validation.copy()\n",
        "Airline_validation_plot['Type'] = 'Validation'\n",
        "\n",
        "# Concatenate everything\n",
        "plot_df = pd.concat([Airline_train_plot, Airline_validation_plot, forecast_df])\n",
        "\n",
        "# Plot using seaborn\n",
        "plt.figure(figsize=(10, 6))\n",
        "sns.lineplot(data=plot_df, x='T', y='Number of passengers', hue='Type', style='Type', markers=False)\n",
        "plt.xlabel('Year')\n",
        "plt.ylabel('Hours per Week')\n",
        "plt.tight_layout()\n",
        "plt.show()"
      ],
      "id": "6a3d9cda",
      "execution_count": null,
      "outputs": []
    },
    {
      "cell_type": "markdown",
      "metadata": {},
      "source": [
        "# [Return to main page](https://alanrvazquez.github.io/TEC-IN2004B/)"
      ],
      "id": "668ebc60"
    }
  ],
  "metadata": {
    "kernelspec": {
      "display_name": "Python 3",
      "language": "python",
      "name": "python3"
    }
  },
  "nbformat": 4,
  "nbformat_minor": 5
}